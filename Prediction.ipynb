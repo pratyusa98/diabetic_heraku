{
 "cells": [
  {
   "cell_type": "code",
   "execution_count": 1,
   "metadata": {},
   "outputs": [],
   "source": [
    "import pickle\n",
    "import numpy as np"
   ]
  },
  {
   "cell_type": "code",
   "execution_count": 2,
   "metadata": {},
   "outputs": [],
   "source": [
    "filename = 'diabetes-prediction-rfc-model.pkl'\n",
    "rfc = pickle.load(open(filename, 'rb'))"
   ]
  },
  {
   "cell_type": "code",
   "execution_count": 5,
   "metadata": {},
   "outputs": [],
   "source": [
    "data = np.array([[0, #Pregnancies\n",
    "                  84.0, #Glucose\n",
    "                  82.000000, #BloodPressure\n",
    "                  31.0, #SkinThickness \n",
    "                  125.0, #Insulin\n",
    "                  38.2, #BMI\n",
    "                  0.233, #DiabetesPedigreeFunction\n",
    "                  23 #Age\n",
    "                 ]])\n",
    "my_prediction = rfc.predict(data)"
   ]
  },
  {
   "cell_type": "code",
   "execution_count": 6,
   "metadata": {},
   "outputs": [
    {
     "name": "stdout",
     "output_type": "stream",
     "text": [
      "Great! No diabates\n"
     ]
    }
   ],
   "source": [
    "if my_prediction == 1:\n",
    "    print(\"Opps! You have Diabetes\")\n",
    "elif my_prediction == 0:\n",
    "    print(\"Great! No diabates\")"
   ]
  },
  {
   "cell_type": "code",
   "execution_count": null,
   "metadata": {},
   "outputs": [],
   "source": []
  }
 ],
 "metadata": {
  "kernelspec": {
   "display_name": "Python 3",
   "language": "python",
   "name": "python3"
  },
  "language_info": {
   "codemirror_mode": {
    "name": "ipython",
    "version": 3
   },
   "file_extension": ".py",
   "mimetype": "text/x-python",
   "name": "python",
   "nbconvert_exporter": "python",
   "pygments_lexer": "ipython3",
   "version": "3.7.6"
  }
 },
 "nbformat": 4,
 "nbformat_minor": 4
}
